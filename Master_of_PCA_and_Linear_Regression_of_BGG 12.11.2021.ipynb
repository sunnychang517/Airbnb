{
  "nbformat": 4,
  "nbformat_minor": 0,
  "metadata": {
    "colab": {
      "name": "Master of PCA and Linear Regression of BGG.ipynb",
      "provenance": [],
      "collapsed_sections": []
    },
    "kernelspec": {
      "name": "python3",
      "display_name": "Python 3"
    },
    "language_info": {
      "name": "python"
    }
  },
  "cells": [
    {
      "cell_type": "code",
      "metadata": {
        "id": "FXGtKFVI9C8I"
      },
      "source": [
        "import pandas as pd\n",
        "import datetime\n",
        "import seaborn as sns\n",
        "import warnings\n",
        "warnings.filterwarnings('ignore')\n",
        "import numpy as np\n",
        "import functools as reduce\n",
        "from sklearn.preprocessing import scale\n",
        "from sklearn.decomposition import PCA\n",
        "from matplotlib import pyplot as plt\n"
      ],
      "execution_count": null,
      "outputs": []
    },
    {
      "cell_type": "code",
      "metadata": {
        "id": "V98ChfZO9p8B"
      },
      "source": [
        "ratings = pd.read_csv(\"2020-08-19.csv\", encoding = 'unicode_escape')\n",
        "reviews = pd.read_csv(\"bgg-15m-reviews.csv\", engine='python', error_bad_lines=False) \n"
      ],
      "execution_count": null,
      "outputs": []
    },
    {
      "cell_type": "code",
      "metadata": {
        "colab": {
          "base_uri": "https://localhost:8080/",
          "height": 348
        },
        "id": "zeiNFKllHrNB",
        "outputId": "5521d8da-0b54-4dd6-c4f6-9b2b991c3e54"
      },
      "source": [
        "ratings.head()"
      ],
      "execution_count": null,
      "outputs": [
        {
          "output_type": "execute_result",
          "data": {
            "text/html": [
              "<div>\n",
              "<style scoped>\n",
              "    .dataframe tbody tr th:only-of-type {\n",
              "        vertical-align: middle;\n",
              "    }\n",
              "\n",
              "    .dataframe tbody tr th {\n",
              "        vertical-align: top;\n",
              "    }\n",
              "\n",
              "    .dataframe thead th {\n",
              "        text-align: right;\n",
              "    }\n",
              "</style>\n",
              "<table border=\"1\" class=\"dataframe\">\n",
              "  <thead>\n",
              "    <tr style=\"text-align: right;\">\n",
              "      <th></th>\n",
              "      <th>Index</th>\n",
              "      <th>ID</th>\n",
              "      <th>Name</th>\n",
              "      <th>Year</th>\n",
              "      <th>Rank</th>\n",
              "      <th>Average</th>\n",
              "      <th>Bayes average</th>\n",
              "      <th>Users rated</th>\n",
              "      <th>URL</th>\n",
              "      <th>Thumbnail</th>\n",
              "    </tr>\n",
              "  </thead>\n",
              "  <tbody>\n",
              "    <tr>\n",
              "      <th>0</th>\n",
              "      <td>90</td>\n",
              "      <td>30549</td>\n",
              "      <td>Pandemic</td>\n",
              "      <td>2008</td>\n",
              "      <td>91</td>\n",
              "      <td>7.62</td>\n",
              "      <td>7.518</td>\n",
              "      <td>96186</td>\n",
              "      <td>/boardgame/30549/pandemic</td>\n",
              "      <td>https://cf.geekdo-images.com/micro/img/0m3-oqB...</td>\n",
              "    </tr>\n",
              "    <tr>\n",
              "      <th>1</th>\n",
              "      <td>172</td>\n",
              "      <td>822</td>\n",
              "      <td>Carcassonne</td>\n",
              "      <td>2000</td>\n",
              "      <td>173</td>\n",
              "      <td>7.42</td>\n",
              "      <td>7.311</td>\n",
              "      <td>96181</td>\n",
              "      <td>/boardgame/822/carcassonne</td>\n",
              "      <td>https://cf.geekdo-images.com/micro/img/z0tTaij...</td>\n",
              "    </tr>\n",
              "    <tr>\n",
              "      <th>2</th>\n",
              "      <td>380</td>\n",
              "      <td>13</td>\n",
              "      <td>Catan</td>\n",
              "      <td>1995</td>\n",
              "      <td>381</td>\n",
              "      <td>7.16</td>\n",
              "      <td>7.001</td>\n",
              "      <td>96171</td>\n",
              "      <td>/boardgame/13/catan</td>\n",
              "      <td>https://cf.geekdo-images.com/micro/img/e0y6Bog...</td>\n",
              "    </tr>\n",
              "    <tr>\n",
              "      <th>3</th>\n",
              "      <td>49</td>\n",
              "      <td>68448</td>\n",
              "      <td>7 Wonders</td>\n",
              "      <td>2010</td>\n",
              "      <td>50</td>\n",
              "      <td>7.76</td>\n",
              "      <td>7.662</td>\n",
              "      <td>79830</td>\n",
              "      <td>/boardgame/68448/7-wonders</td>\n",
              "      <td>https://cf.geekdo-images.com/micro/img/h-Ejv31...</td>\n",
              "    </tr>\n",
              "    <tr>\n",
              "      <th>4</th>\n",
              "      <td>87</td>\n",
              "      <td>36218</td>\n",
              "      <td>Dominion</td>\n",
              "      <td>2008</td>\n",
              "      <td>88</td>\n",
              "      <td>7.63</td>\n",
              "      <td>7.521</td>\n",
              "      <td>74933</td>\n",
              "      <td>/boardgame/36218/dominion</td>\n",
              "      <td>https://cf.geekdo-images.com/micro/img/VYp2s2f...</td>\n",
              "    </tr>\n",
              "  </tbody>\n",
              "</table>\n",
              "</div>"
            ],
            "text/plain": [
              "   Index  ...                                          Thumbnail\n",
              "0     90  ...  https://cf.geekdo-images.com/micro/img/0m3-oqB...\n",
              "1    172  ...  https://cf.geekdo-images.com/micro/img/z0tTaij...\n",
              "2    380  ...  https://cf.geekdo-images.com/micro/img/e0y6Bog...\n",
              "3     49  ...  https://cf.geekdo-images.com/micro/img/h-Ejv31...\n",
              "4     87  ...  https://cf.geekdo-images.com/micro/img/VYp2s2f...\n",
              "\n",
              "[5 rows x 10 columns]"
            ]
          },
          "metadata": {},
          "execution_count": 5
        }
      ]
    },
    {
      "cell_type": "code",
      "metadata": {
        "id": "O8EGsAcpYuc-"
      },
      "source": [
        "ratings_1 = ratings.drop(['URL',\"Thumbnail\"], axis = 1)\n",
        "#subset -url, thumbnail"
      ],
      "execution_count": null,
      "outputs": []
    },
    {
      "cell_type": "code",
      "metadata": {
        "colab": {
          "base_uri": "https://localhost:8080/"
        },
        "id": "yxui6mEEbWvy",
        "outputId": "d42e57bf-fe5a-4f06-82de-6eb2903fd5e1"
      },
      "source": [
        "ratings.isna().sum()"
      ],
      "execution_count": null,
      "outputs": [
        {
          "output_type": "execute_result",
          "data": {
            "text/plain": [
              "Index             0\n",
              "ID                0\n",
              "Name              0\n",
              "Year              0\n",
              "Rank              0\n",
              "Average           0\n",
              "Bayes average     0\n",
              "Users rated       0\n",
              "URL               0\n",
              "Thumbnail        13\n",
              "dtype: int64"
            ]
          },
          "metadata": {},
          "execution_count": 7
        }
      ]
    },
    {
      "cell_type": "code",
      "metadata": {
        "id": "BN79DeYHckVz"
      },
      "source": [
        "ratings_count = ratings.count()"
      ],
      "execution_count": null,
      "outputs": []
    },
    {
      "cell_type": "code",
      "metadata": {
        "colab": {
          "base_uri": "https://localhost:8080/"
        },
        "id": "n6rE6YiugS6W",
        "outputId": "73271ab4-e836-46a6-9ac4-1f2885cd6ace"
      },
      "source": [
        "ratings_count"
      ],
      "execution_count": null,
      "outputs": [
        {
          "output_type": "execute_result",
          "data": {
            "text/plain": [
              "Index            19330\n",
              "ID               19330\n",
              "Name             19330\n",
              "Year             19330\n",
              "Rank             19330\n",
              "Average          19330\n",
              "Bayes average    19330\n",
              "Users rated      19330\n",
              "URL              19330\n",
              "Thumbnail        19317\n",
              "dtype: int64"
            ]
          },
          "metadata": {},
          "execution_count": 9
        }
      ]
    },
    {
      "cell_type": "code",
      "metadata": {
        "colab": {
          "base_uri": "https://localhost:8080/"
        },
        "id": "wSFgpb7OjjFG",
        "outputId": "6f9e708e-2387-49cd-eacd-bdee4dbf9949"
      },
      "source": [
        "len(ratings)"
      ],
      "execution_count": null,
      "outputs": [
        {
          "output_type": "execute_result",
          "data": {
            "text/plain": [
              "19330"
            ]
          },
          "metadata": {},
          "execution_count": 10
        }
      ]
    },
    {
      "cell_type": "code",
      "metadata": {
        "id": "BzU41J-G-zJ7"
      },
      "source": [
        "reviews = pd.read_csv(\"bgg-15m-reviews.csv\", engine='python', error_bad_lines=False) "
      ],
      "execution_count": null,
      "outputs": []
    },
    {
      "cell_type": "code",
      "metadata": {
        "colab": {
          "base_uri": "https://localhost:8080/",
          "height": 206
        },
        "id": "9jTplGIUJzeO",
        "outputId": "2b788b00-7195-4647-ba42-5ae5899cc1f4"
      },
      "source": [
        "reviews.head()"
      ],
      "execution_count": null,
      "outputs": [
        {
          "output_type": "execute_result",
          "data": {
            "text/html": [
              "<div>\n",
              "<style scoped>\n",
              "    .dataframe tbody tr th:only-of-type {\n",
              "        vertical-align: middle;\n",
              "    }\n",
              "\n",
              "    .dataframe tbody tr th {\n",
              "        vertical-align: top;\n",
              "    }\n",
              "\n",
              "    .dataframe thead th {\n",
              "        text-align: right;\n",
              "    }\n",
              "</style>\n",
              "<table border=\"1\" class=\"dataframe\">\n",
              "  <thead>\n",
              "    <tr style=\"text-align: right;\">\n",
              "      <th></th>\n",
              "      <th>Unnamed: 0</th>\n",
              "      <th>user</th>\n",
              "      <th>rating</th>\n",
              "      <th>comment</th>\n",
              "      <th>ID</th>\n",
              "      <th>name</th>\n",
              "    </tr>\n",
              "  </thead>\n",
              "  <tbody>\n",
              "    <tr>\n",
              "      <th>0</th>\n",
              "      <td>0</td>\n",
              "      <td>Torsten</td>\n",
              "      <td>10.0</td>\n",
              "      <td>NaN</td>\n",
              "      <td>30549.0</td>\n",
              "      <td>Pandemic</td>\n",
              "    </tr>\n",
              "    <tr>\n",
              "      <th>1</th>\n",
              "      <td>1</td>\n",
              "      <td>mitnachtKAUBO-I</td>\n",
              "      <td>10.0</td>\n",
              "      <td>Hands down my favorite new game of BGG CON 200...</td>\n",
              "      <td>30549.0</td>\n",
              "      <td>Pandemic</td>\n",
              "    </tr>\n",
              "    <tr>\n",
              "      <th>2</th>\n",
              "      <td>2</td>\n",
              "      <td>avlawn</td>\n",
              "      <td>10.0</td>\n",
              "      <td>I tend to either love or easily tire of co-op ...</td>\n",
              "      <td>30549.0</td>\n",
              "      <td>Pandemic</td>\n",
              "    </tr>\n",
              "    <tr>\n",
              "      <th>3</th>\n",
              "      <td>3</td>\n",
              "      <td>Mike Mayer</td>\n",
              "      <td>10.0</td>\n",
              "      <td>NaN</td>\n",
              "      <td>30549.0</td>\n",
              "      <td>Pandemic</td>\n",
              "    </tr>\n",
              "    <tr>\n",
              "      <th>4</th>\n",
              "      <td>4</td>\n",
              "      <td>Mease19</td>\n",
              "      <td>10.0</td>\n",
              "      <td>This is an amazing co-op game.  I play mostly ...</td>\n",
              "      <td>30549.0</td>\n",
              "      <td>Pandemic</td>\n",
              "    </tr>\n",
              "  </tbody>\n",
              "</table>\n",
              "</div>"
            ],
            "text/plain": [
              "   Unnamed: 0             user  ...       ID      name\n",
              "0           0          Torsten  ...  30549.0  Pandemic\n",
              "1           1  mitnachtKAUBO-I  ...  30549.0  Pandemic\n",
              "2           2           avlawn  ...  30549.0  Pandemic\n",
              "3           3       Mike Mayer  ...  30549.0  Pandemic\n",
              "4           4          Mease19  ...  30549.0  Pandemic\n",
              "\n",
              "[5 rows x 6 columns]"
            ]
          },
          "metadata": {},
          "execution_count": 12
        }
      ]
    },
    {
      "cell_type": "code",
      "metadata": {
        "id": "RoCNWDEdUcWA"
      },
      "source": [
        "reviews_1 = reviews.rename( columns={'Unnamed: 0':'Index'})"
      ],
      "execution_count": null,
      "outputs": []
    },
    {
      "cell_type": "code",
      "metadata": {
        "colab": {
          "base_uri": "https://localhost:8080/",
          "height": 206
        },
        "id": "vMogpSEQWHz1",
        "outputId": "ef47ff17-340c-4618-b0b8-84204355080f"
      },
      "source": [
        "reviews_1.head()"
      ],
      "execution_count": null,
      "outputs": [
        {
          "output_type": "execute_result",
          "data": {
            "text/html": [
              "<div>\n",
              "<style scoped>\n",
              "    .dataframe tbody tr th:only-of-type {\n",
              "        vertical-align: middle;\n",
              "    }\n",
              "\n",
              "    .dataframe tbody tr th {\n",
              "        vertical-align: top;\n",
              "    }\n",
              "\n",
              "    .dataframe thead th {\n",
              "        text-align: right;\n",
              "    }\n",
              "</style>\n",
              "<table border=\"1\" class=\"dataframe\">\n",
              "  <thead>\n",
              "    <tr style=\"text-align: right;\">\n",
              "      <th></th>\n",
              "      <th>Index</th>\n",
              "      <th>user</th>\n",
              "      <th>rating</th>\n",
              "      <th>comment</th>\n",
              "      <th>ID</th>\n",
              "      <th>name</th>\n",
              "    </tr>\n",
              "  </thead>\n",
              "  <tbody>\n",
              "    <tr>\n",
              "      <th>0</th>\n",
              "      <td>0</td>\n",
              "      <td>Torsten</td>\n",
              "      <td>10.0</td>\n",
              "      <td>NaN</td>\n",
              "      <td>30549.0</td>\n",
              "      <td>Pandemic</td>\n",
              "    </tr>\n",
              "    <tr>\n",
              "      <th>1</th>\n",
              "      <td>1</td>\n",
              "      <td>mitnachtKAUBO-I</td>\n",
              "      <td>10.0</td>\n",
              "      <td>Hands down my favorite new game of BGG CON 200...</td>\n",
              "      <td>30549.0</td>\n",
              "      <td>Pandemic</td>\n",
              "    </tr>\n",
              "    <tr>\n",
              "      <th>2</th>\n",
              "      <td>2</td>\n",
              "      <td>avlawn</td>\n",
              "      <td>10.0</td>\n",
              "      <td>I tend to either love or easily tire of co-op ...</td>\n",
              "      <td>30549.0</td>\n",
              "      <td>Pandemic</td>\n",
              "    </tr>\n",
              "    <tr>\n",
              "      <th>3</th>\n",
              "      <td>3</td>\n",
              "      <td>Mike Mayer</td>\n",
              "      <td>10.0</td>\n",
              "      <td>NaN</td>\n",
              "      <td>30549.0</td>\n",
              "      <td>Pandemic</td>\n",
              "    </tr>\n",
              "    <tr>\n",
              "      <th>4</th>\n",
              "      <td>4</td>\n",
              "      <td>Mease19</td>\n",
              "      <td>10.0</td>\n",
              "      <td>This is an amazing co-op game.  I play mostly ...</td>\n",
              "      <td>30549.0</td>\n",
              "      <td>Pandemic</td>\n",
              "    </tr>\n",
              "  </tbody>\n",
              "</table>\n",
              "</div>"
            ],
            "text/plain": [
              "   Index             user  ...       ID      name\n",
              "0      0          Torsten  ...  30549.0  Pandemic\n",
              "1      1  mitnachtKAUBO-I  ...  30549.0  Pandemic\n",
              "2      2           avlawn  ...  30549.0  Pandemic\n",
              "3      3       Mike Mayer  ...  30549.0  Pandemic\n",
              "4      4          Mease19  ...  30549.0  Pandemic\n",
              "\n",
              "[5 rows x 6 columns]"
            ]
          },
          "metadata": {},
          "execution_count": 14
        }
      ]
    },
    {
      "cell_type": "code",
      "metadata": {
        "colab": {
          "base_uri": "https://localhost:8080/"
        },
        "id": "1EOoTegVX-UD",
        "outputId": "1d2690a7-6e06-4a95-ce8a-5e1235bc537b"
      },
      "source": [
        "for col in reviews_1.columns:\n",
        "    pct_missing = np.mean(reviews_1[col].isnull())\n",
        "    print('{} - {}%'.format(col, round(pct_missing*100)))"
      ],
      "execution_count": null,
      "outputs": [
        {
          "output_type": "stream",
          "name": "stdout",
          "text": [
            "Index - 0%\n",
            "user - 0%\n",
            "rating - 0%\n",
            "comment - 82%\n",
            "ID - 0%\n",
            "name - 0%\n"
          ]
        }
      ]
    },
    {
      "cell_type": "code",
      "metadata": {
        "colab": {
          "base_uri": "https://localhost:8080/"
        },
        "id": "5HeCdtFybOpj",
        "outputId": "f34e38ea-d143-46be-f726-ba6bfeef2ca3"
      },
      "source": [
        "reviews_1.isna().sum()"
      ],
      "execution_count": null,
      "outputs": [
        {
          "output_type": "execute_result",
          "data": {
            "text/plain": [
              "Index           0\n",
              "user            0\n",
              "rating          1\n",
              "comment    490621\n",
              "ID              1\n",
              "name            1\n",
              "dtype: int64"
            ]
          },
          "metadata": {},
          "execution_count": 16
        }
      ]
    },
    {
      "cell_type": "code",
      "metadata": {
        "colab": {
          "base_uri": "https://localhost:8080/"
        },
        "id": "Dgg_EBXViQEB",
        "outputId": "95e29aaf-055c-471c-eaef-166cb81de7d7"
      },
      "source": [
        "reviews_1.count()"
      ],
      "execution_count": null,
      "outputs": [
        {
          "output_type": "execute_result",
          "data": {
            "text/plain": [
              "Index      597751\n",
              "user       597751\n",
              "rating     597750\n",
              "comment    107130\n",
              "ID         597750\n",
              "name       597750\n",
              "dtype: int64"
            ]
          },
          "metadata": {},
          "execution_count": 17
        }
      ]
    },
    {
      "cell_type": "code",
      "metadata": {
        "id": "FBpbJWj30Wjk"
      },
      "source": [
        "reviews_1.comment = reviews_1.comment.fillna('')"
      ],
      "execution_count": null,
      "outputs": []
    },
    {
      "cell_type": "code",
      "metadata": {
        "id": "WTdz2dD01Wq_"
      },
      "source": [
        "reviews_1.user = reviews_1.user.fillna(\"Anonymous\")"
      ],
      "execution_count": null,
      "outputs": []
    },
    {
      "cell_type": "code",
      "metadata": {
        "colab": {
          "base_uri": "https://localhost:8080/",
          "height": 49
        },
        "id": "RzJZueZ11fxa",
        "outputId": "7619ad42-02eb-47bb-8df5-839c1a3d9eb6"
      },
      "source": [
        "reviews_1[(reviews_1.user == \"Anonymous\")]"
      ],
      "execution_count": null,
      "outputs": [
        {
          "output_type": "execute_result",
          "data": {
            "text/html": [
              "<div>\n",
              "<style scoped>\n",
              "    .dataframe tbody tr th:only-of-type {\n",
              "        vertical-align: middle;\n",
              "    }\n",
              "\n",
              "    .dataframe tbody tr th {\n",
              "        vertical-align: top;\n",
              "    }\n",
              "\n",
              "    .dataframe thead th {\n",
              "        text-align: right;\n",
              "    }\n",
              "</style>\n",
              "<table border=\"1\" class=\"dataframe\">\n",
              "  <thead>\n",
              "    <tr style=\"text-align: right;\">\n",
              "      <th></th>\n",
              "      <th>Index</th>\n",
              "      <th>user</th>\n",
              "      <th>rating</th>\n",
              "      <th>comment</th>\n",
              "      <th>ID</th>\n",
              "      <th>name</th>\n",
              "    </tr>\n",
              "  </thead>\n",
              "  <tbody>\n",
              "  </tbody>\n",
              "</table>\n",
              "</div>"
            ],
            "text/plain": [
              "Empty DataFrame\n",
              "Columns: [Index, user, rating, comment, ID, name]\n",
              "Index: []"
            ]
          },
          "metadata": {},
          "execution_count": 20
        }
      ]
    },
    {
      "cell_type": "code",
      "metadata": {
        "colab": {
          "base_uri": "https://localhost:8080/"
        },
        "id": "PoFj3uBU0mj3",
        "outputId": "6102f6c2-c2a8-4e85-fc1f-d7a2ee0a4092"
      },
      "source": [
        "reviews_1.isna().sum()"
      ],
      "execution_count": null,
      "outputs": [
        {
          "output_type": "execute_result",
          "data": {
            "text/plain": [
              "Index      0\n",
              "user       0\n",
              "rating     1\n",
              "comment    0\n",
              "ID         1\n",
              "name       1\n",
              "dtype: int64"
            ]
          },
          "metadata": {},
          "execution_count": 21
        }
      ]
    },
    {
      "cell_type": "code",
      "metadata": {
        "colab": {
          "base_uri": "https://localhost:8080/"
        },
        "id": "LuYHoJLxjczG",
        "outputId": "a71b2a0c-b345-4b77-b03a-029a575d41b3"
      },
      "source": [
        "len(reviews_1)"
      ],
      "execution_count": null,
      "outputs": [
        {
          "output_type": "execute_result",
          "data": {
            "text/plain": [
              "597751"
            ]
          },
          "metadata": {},
          "execution_count": 22
        }
      ]
    },
    {
      "cell_type": "code",
      "metadata": {
        "colab": {
          "base_uri": "https://localhost:8080/"
        },
        "id": "njWuWX2h17JM",
        "outputId": "44e9cd29-53f3-4634-d172-1f8ab4f9f16d"
      },
      "source": [
        "reviews_1.isna().sum()"
      ],
      "execution_count": null,
      "outputs": [
        {
          "output_type": "execute_result",
          "data": {
            "text/plain": [
              "Index      0\n",
              "user       0\n",
              "rating     1\n",
              "comment    0\n",
              "ID         1\n",
              "name       1\n",
              "dtype: int64"
            ]
          },
          "metadata": {},
          "execution_count": 23
        }
      ]
    },
    {
      "cell_type": "code",
      "metadata": {
        "colab": {
          "base_uri": "https://localhost:8080/"
        },
        "id": "3VhAURD82AmX",
        "outputId": "66c8cc42-765f-4693-8d33-5c147265956c"
      },
      "source": [
        "ratings_1.isna().sum()"
      ],
      "execution_count": null,
      "outputs": [
        {
          "output_type": "execute_result",
          "data": {
            "text/plain": [
              "Index            0\n",
              "ID               0\n",
              "Name             0\n",
              "Year             0\n",
              "Rank             0\n",
              "Average          0\n",
              "Bayes average    0\n",
              "Users rated      0\n",
              "dtype: int64"
            ]
          },
          "metadata": {},
          "execution_count": 24
        }
      ]
    },
    {
      "cell_type": "code",
      "metadata": {
        "colab": {
          "base_uri": "https://localhost:8080/",
          "height": 424
        },
        "id": "4igVUZRr2rll",
        "outputId": "dfc9d49c-9d3e-4b08-d4e2-2a33dda86eb8"
      },
      "source": [
        "ratings_1"
      ],
      "execution_count": null,
      "outputs": [
        {
          "output_type": "execute_result",
          "data": {
            "text/html": [
              "<div>\n",
              "<style scoped>\n",
              "    .dataframe tbody tr th:only-of-type {\n",
              "        vertical-align: middle;\n",
              "    }\n",
              "\n",
              "    .dataframe tbody tr th {\n",
              "        vertical-align: top;\n",
              "    }\n",
              "\n",
              "    .dataframe thead th {\n",
              "        text-align: right;\n",
              "    }\n",
              "</style>\n",
              "<table border=\"1\" class=\"dataframe\">\n",
              "  <thead>\n",
              "    <tr style=\"text-align: right;\">\n",
              "      <th></th>\n",
              "      <th>Index</th>\n",
              "      <th>ID</th>\n",
              "      <th>Name</th>\n",
              "      <th>Year</th>\n",
              "      <th>Rank</th>\n",
              "      <th>Average</th>\n",
              "      <th>Bayes average</th>\n",
              "      <th>Users rated</th>\n",
              "    </tr>\n",
              "  </thead>\n",
              "  <tbody>\n",
              "    <tr>\n",
              "      <th>0</th>\n",
              "      <td>90</td>\n",
              "      <td>30549</td>\n",
              "      <td>Pandemic</td>\n",
              "      <td>2008</td>\n",
              "      <td>91</td>\n",
              "      <td>7.62</td>\n",
              "      <td>7.518</td>\n",
              "      <td>96186</td>\n",
              "    </tr>\n",
              "    <tr>\n",
              "      <th>1</th>\n",
              "      <td>172</td>\n",
              "      <td>822</td>\n",
              "      <td>Carcassonne</td>\n",
              "      <td>2000</td>\n",
              "      <td>173</td>\n",
              "      <td>7.42</td>\n",
              "      <td>7.311</td>\n",
              "      <td>96181</td>\n",
              "    </tr>\n",
              "    <tr>\n",
              "      <th>2</th>\n",
              "      <td>380</td>\n",
              "      <td>13</td>\n",
              "      <td>Catan</td>\n",
              "      <td>1995</td>\n",
              "      <td>381</td>\n",
              "      <td>7.16</td>\n",
              "      <td>7.001</td>\n",
              "      <td>96171</td>\n",
              "    </tr>\n",
              "    <tr>\n",
              "      <th>3</th>\n",
              "      <td>49</td>\n",
              "      <td>68448</td>\n",
              "      <td>7 Wonders</td>\n",
              "      <td>2010</td>\n",
              "      <td>50</td>\n",
              "      <td>7.76</td>\n",
              "      <td>7.662</td>\n",
              "      <td>79830</td>\n",
              "    </tr>\n",
              "    <tr>\n",
              "      <th>4</th>\n",
              "      <td>87</td>\n",
              "      <td>36218</td>\n",
              "      <td>Dominion</td>\n",
              "      <td>2008</td>\n",
              "      <td>88</td>\n",
              "      <td>7.63</td>\n",
              "      <td>7.521</td>\n",
              "      <td>74933</td>\n",
              "    </tr>\n",
              "    <tr>\n",
              "      <th>...</th>\n",
              "      <td>...</td>\n",
              "      <td>...</td>\n",
              "      <td>...</td>\n",
              "      <td>...</td>\n",
              "      <td>...</td>\n",
              "      <td>...</td>\n",
              "      <td>...</td>\n",
              "      <td>...</td>\n",
              "    </tr>\n",
              "    <tr>\n",
              "      <th>19325</th>\n",
              "      <td>16923</td>\n",
              "      <td>246345</td>\n",
              "      <td>Ninja Rush</td>\n",
              "      <td>2018</td>\n",
              "      <td>16924</td>\n",
              "      <td>5.08</td>\n",
              "      <td>5.490</td>\n",
              "      <td>30</td>\n",
              "    </tr>\n",
              "    <tr>\n",
              "      <th>19326</th>\n",
              "      <td>13931</td>\n",
              "      <td>195623</td>\n",
              "      <td>Politricks: Dirty Card Game</td>\n",
              "      <td>2016</td>\n",
              "      <td>13932</td>\n",
              "      <td>6.72</td>\n",
              "      <td>5.515</td>\n",
              "      <td>30</td>\n",
              "    </tr>\n",
              "    <tr>\n",
              "      <th>19327</th>\n",
              "      <td>16638</td>\n",
              "      <td>235943</td>\n",
              "      <td>Doppel X</td>\n",
              "      <td>2017</td>\n",
              "      <td>16639</td>\n",
              "      <td>5.17</td>\n",
              "      <td>5.493</td>\n",
              "      <td>30</td>\n",
              "    </tr>\n",
              "    <tr>\n",
              "      <th>19328</th>\n",
              "      <td>13932</td>\n",
              "      <td>284862</td>\n",
              "      <td>Beasty Borders</td>\n",
              "      <td>2019</td>\n",
              "      <td>13933</td>\n",
              "      <td>6.20</td>\n",
              "      <td>5.515</td>\n",
              "      <td>30</td>\n",
              "    </tr>\n",
              "    <tr>\n",
              "      <th>19329</th>\n",
              "      <td>12882</td>\n",
              "      <td>281515</td>\n",
              "      <td>Company of Heroes</td>\n",
              "      <td>2020</td>\n",
              "      <td>12883</td>\n",
              "      <td>9.13</td>\n",
              "      <td>5.522</td>\n",
              "      <td>30</td>\n",
              "    </tr>\n",
              "  </tbody>\n",
              "</table>\n",
              "<p>19330 rows × 8 columns</p>\n",
              "</div>"
            ],
            "text/plain": [
              "       Index      ID  ... Bayes average  Users rated\n",
              "0         90   30549  ...         7.518        96186\n",
              "1        172     822  ...         7.311        96181\n",
              "2        380      13  ...         7.001        96171\n",
              "3         49   68448  ...         7.662        79830\n",
              "4         87   36218  ...         7.521        74933\n",
              "...      ...     ...  ...           ...          ...\n",
              "19325  16923  246345  ...         5.490           30\n",
              "19326  13931  195623  ...         5.515           30\n",
              "19327  16638  235943  ...         5.493           30\n",
              "19328  13932  284862  ...         5.515           30\n",
              "19329  12882  281515  ...         5.522           30\n",
              "\n",
              "[19330 rows x 8 columns]"
            ]
          },
          "metadata": {},
          "execution_count": 25
        }
      ]
    },
    {
      "cell_type": "code",
      "metadata": {
        "colab": {
          "base_uri": "https://localhost:8080/",
          "height": 81
        },
        "id": "y21w5eh92nWC",
        "outputId": "6a10d8fc-d099-445e-f8be-4eacd1482a20"
      },
      "source": [
        "ratings_1[(ratings_1.Name== \"Pandemic\")]"
      ],
      "execution_count": null,
      "outputs": [
        {
          "output_type": "execute_result",
          "data": {
            "text/html": [
              "<div>\n",
              "<style scoped>\n",
              "    .dataframe tbody tr th:only-of-type {\n",
              "        vertical-align: middle;\n",
              "    }\n",
              "\n",
              "    .dataframe tbody tr th {\n",
              "        vertical-align: top;\n",
              "    }\n",
              "\n",
              "    .dataframe thead th {\n",
              "        text-align: right;\n",
              "    }\n",
              "</style>\n",
              "<table border=\"1\" class=\"dataframe\">\n",
              "  <thead>\n",
              "    <tr style=\"text-align: right;\">\n",
              "      <th></th>\n",
              "      <th>Index</th>\n",
              "      <th>ID</th>\n",
              "      <th>Name</th>\n",
              "      <th>Year</th>\n",
              "      <th>Rank</th>\n",
              "      <th>Average</th>\n",
              "      <th>Bayes average</th>\n",
              "      <th>Users rated</th>\n",
              "    </tr>\n",
              "  </thead>\n",
              "  <tbody>\n",
              "    <tr>\n",
              "      <th>0</th>\n",
              "      <td>90</td>\n",
              "      <td>30549</td>\n",
              "      <td>Pandemic</td>\n",
              "      <td>2008</td>\n",
              "      <td>91</td>\n",
              "      <td>7.62</td>\n",
              "      <td>7.518</td>\n",
              "      <td>96186</td>\n",
              "    </tr>\n",
              "  </tbody>\n",
              "</table>\n",
              "</div>"
            ],
            "text/plain": [
              "   Index     ID      Name  Year  Rank  Average  Bayes average  Users rated\n",
              "0     90  30549  Pandemic  2008    91     7.62          7.518        96186"
            ]
          },
          "metadata": {},
          "execution_count": 26
        }
      ]
    },
    {
      "cell_type": "code",
      "metadata": {
        "colab": {
          "base_uri": "https://localhost:8080/",
          "height": 424
        },
        "id": "4HzqvIvF275Q",
        "outputId": "cda05608-464c-49f2-fd5c-05f890d00ead"
      },
      "source": [
        "reviews_1"
      ],
      "execution_count": null,
      "outputs": [
        {
          "output_type": "execute_result",
          "data": {
            "text/html": [
              "<div>\n",
              "<style scoped>\n",
              "    .dataframe tbody tr th:only-of-type {\n",
              "        vertical-align: middle;\n",
              "    }\n",
              "\n",
              "    .dataframe tbody tr th {\n",
              "        vertical-align: top;\n",
              "    }\n",
              "\n",
              "    .dataframe thead th {\n",
              "        text-align: right;\n",
              "    }\n",
              "</style>\n",
              "<table border=\"1\" class=\"dataframe\">\n",
              "  <thead>\n",
              "    <tr style=\"text-align: right;\">\n",
              "      <th></th>\n",
              "      <th>Index</th>\n",
              "      <th>user</th>\n",
              "      <th>rating</th>\n",
              "      <th>comment</th>\n",
              "      <th>ID</th>\n",
              "      <th>name</th>\n",
              "    </tr>\n",
              "  </thead>\n",
              "  <tbody>\n",
              "    <tr>\n",
              "      <th>0</th>\n",
              "      <td>0</td>\n",
              "      <td>Torsten</td>\n",
              "      <td>10.0</td>\n",
              "      <td></td>\n",
              "      <td>30549.0</td>\n",
              "      <td>Pandemic</td>\n",
              "    </tr>\n",
              "    <tr>\n",
              "      <th>1</th>\n",
              "      <td>1</td>\n",
              "      <td>mitnachtKAUBO-I</td>\n",
              "      <td>10.0</td>\n",
              "      <td>Hands down my favorite new game of BGG CON 200...</td>\n",
              "      <td>30549.0</td>\n",
              "      <td>Pandemic</td>\n",
              "    </tr>\n",
              "    <tr>\n",
              "      <th>2</th>\n",
              "      <td>2</td>\n",
              "      <td>avlawn</td>\n",
              "      <td>10.0</td>\n",
              "      <td>I tend to either love or easily tire of co-op ...</td>\n",
              "      <td>30549.0</td>\n",
              "      <td>Pandemic</td>\n",
              "    </tr>\n",
              "    <tr>\n",
              "      <th>3</th>\n",
              "      <td>3</td>\n",
              "      <td>Mike Mayer</td>\n",
              "      <td>10.0</td>\n",
              "      <td></td>\n",
              "      <td>30549.0</td>\n",
              "      <td>Pandemic</td>\n",
              "    </tr>\n",
              "    <tr>\n",
              "      <th>4</th>\n",
              "      <td>4</td>\n",
              "      <td>Mease19</td>\n",
              "      <td>10.0</td>\n",
              "      <td>This is an amazing co-op game.  I play mostly ...</td>\n",
              "      <td>30549.0</td>\n",
              "      <td>Pandemic</td>\n",
              "    </tr>\n",
              "    <tr>\n",
              "      <th>...</th>\n",
              "      <td>...</td>\n",
              "      <td>...</td>\n",
              "      <td>...</td>\n",
              "      <td>...</td>\n",
              "      <td>...</td>\n",
              "      <td>...</td>\n",
              "    </tr>\n",
              "    <tr>\n",
              "      <th>597746</th>\n",
              "      <td>597746</td>\n",
              "      <td>Septaron</td>\n",
              "      <td>9.0</td>\n",
              "      <td></td>\n",
              "      <td>39856.0</td>\n",
              "      <td>Dixit</td>\n",
              "    </tr>\n",
              "    <tr>\n",
              "      <th>597747</th>\n",
              "      <td>597747</td>\n",
              "      <td>Gizah</td>\n",
              "      <td>9.0</td>\n",
              "      <td></td>\n",
              "      <td>39856.0</td>\n",
              "      <td>Dixit</td>\n",
              "    </tr>\n",
              "    <tr>\n",
              "      <th>597748</th>\n",
              "      <td>597748</td>\n",
              "      <td>eyeurn1</td>\n",
              "      <td>9.0</td>\n",
              "      <td>This is a gorgeous game. and my folks love to ...</td>\n",
              "      <td>39856.0</td>\n",
              "      <td>Dixit</td>\n",
              "    </tr>\n",
              "    <tr>\n",
              "      <th>597749</th>\n",
              "      <td>597749</td>\n",
              "      <td>Darius van Duyn</td>\n",
              "      <td>9.0</td>\n",
              "      <td>Outstanding alternative game, ideal as party p...</td>\n",
              "      <td>39856.0</td>\n",
              "      <td>Dixit</td>\n",
              "    </tr>\n",
              "    <tr>\n",
              "      <th>597750</th>\n",
              "      <td>597750</td>\n",
              "      <td>ShinyHappyMee</td>\n",
              "      <td>NaN</td>\n",
              "      <td></td>\n",
              "      <td>NaN</td>\n",
              "      <td>None</td>\n",
              "    </tr>\n",
              "  </tbody>\n",
              "</table>\n",
              "<p>597751 rows × 6 columns</p>\n",
              "</div>"
            ],
            "text/plain": [
              "         Index             user  ...       ID      name\n",
              "0            0          Torsten  ...  30549.0  Pandemic\n",
              "1            1  mitnachtKAUBO-I  ...  30549.0  Pandemic\n",
              "2            2           avlawn  ...  30549.0  Pandemic\n",
              "3            3       Mike Mayer  ...  30549.0  Pandemic\n",
              "4            4          Mease19  ...  30549.0  Pandemic\n",
              "...        ...              ...  ...      ...       ...\n",
              "597746  597746         Septaron  ...  39856.0     Dixit\n",
              "597747  597747            Gizah  ...  39856.0     Dixit\n",
              "597748  597748          eyeurn1  ...  39856.0     Dixit\n",
              "597749  597749  Darius van Duyn  ...  39856.0     Dixit\n",
              "597750  597750    ShinyHappyMee  ...      NaN      None\n",
              "\n",
              "[597751 rows x 6 columns]"
            ]
          },
          "metadata": {},
          "execution_count": 27
        }
      ]
    },
    {
      "cell_type": "code",
      "metadata": {
        "colab": {
          "base_uri": "https://localhost:8080/",
          "height": 424
        },
        "id": "sHmSpgYk3ESN",
        "outputId": "f49b09fd-1c58-4ef8-a7c8-ec37e745ad93"
      },
      "source": [
        "reviews_1[(reviews_1.name == \"Pandemic\")]"
      ],
      "execution_count": null,
      "outputs": [
        {
          "output_type": "execute_result",
          "data": {
            "text/html": [
              "<div>\n",
              "<style scoped>\n",
              "    .dataframe tbody tr th:only-of-type {\n",
              "        vertical-align: middle;\n",
              "    }\n",
              "\n",
              "    .dataframe tbody tr th {\n",
              "        vertical-align: top;\n",
              "    }\n",
              "\n",
              "    .dataframe thead th {\n",
              "        text-align: right;\n",
              "    }\n",
              "</style>\n",
              "<table border=\"1\" class=\"dataframe\">\n",
              "  <thead>\n",
              "    <tr style=\"text-align: right;\">\n",
              "      <th></th>\n",
              "      <th>Index</th>\n",
              "      <th>user</th>\n",
              "      <th>rating</th>\n",
              "      <th>comment</th>\n",
              "      <th>ID</th>\n",
              "      <th>name</th>\n",
              "    </tr>\n",
              "  </thead>\n",
              "  <tbody>\n",
              "    <tr>\n",
              "      <th>0</th>\n",
              "      <td>0</td>\n",
              "      <td>Torsten</td>\n",
              "      <td>10.0</td>\n",
              "      <td></td>\n",
              "      <td>30549.0</td>\n",
              "      <td>Pandemic</td>\n",
              "    </tr>\n",
              "    <tr>\n",
              "      <th>1</th>\n",
              "      <td>1</td>\n",
              "      <td>mitnachtKAUBO-I</td>\n",
              "      <td>10.0</td>\n",
              "      <td>Hands down my favorite new game of BGG CON 200...</td>\n",
              "      <td>30549.0</td>\n",
              "      <td>Pandemic</td>\n",
              "    </tr>\n",
              "    <tr>\n",
              "      <th>2</th>\n",
              "      <td>2</td>\n",
              "      <td>avlawn</td>\n",
              "      <td>10.0</td>\n",
              "      <td>I tend to either love or easily tire of co-op ...</td>\n",
              "      <td>30549.0</td>\n",
              "      <td>Pandemic</td>\n",
              "    </tr>\n",
              "    <tr>\n",
              "      <th>3</th>\n",
              "      <td>3</td>\n",
              "      <td>Mike Mayer</td>\n",
              "      <td>10.0</td>\n",
              "      <td></td>\n",
              "      <td>30549.0</td>\n",
              "      <td>Pandemic</td>\n",
              "    </tr>\n",
              "    <tr>\n",
              "      <th>4</th>\n",
              "      <td>4</td>\n",
              "      <td>Mease19</td>\n",
              "      <td>10.0</td>\n",
              "      <td>This is an amazing co-op game.  I play mostly ...</td>\n",
              "      <td>30549.0</td>\n",
              "      <td>Pandemic</td>\n",
              "    </tr>\n",
              "    <tr>\n",
              "      <th>...</th>\n",
              "      <td>...</td>\n",
              "      <td>...</td>\n",
              "      <td>...</td>\n",
              "      <td>...</td>\n",
              "      <td>...</td>\n",
              "      <td>...</td>\n",
              "    </tr>\n",
              "    <tr>\n",
              "      <th>596042</th>\n",
              "      <td>596042</td>\n",
              "      <td>jgilmour</td>\n",
              "      <td>9.5</td>\n",
              "      <td>Holy crap! I got this as part of my Secret San...</td>\n",
              "      <td>30549.0</td>\n",
              "      <td>Pandemic</td>\n",
              "    </tr>\n",
              "    <tr>\n",
              "      <th>596043</th>\n",
              "      <td>596043</td>\n",
              "      <td>miah999</td>\n",
              "      <td>9.5</td>\n",
              "      <td>Save the world from the most insidious threat ...</td>\n",
              "      <td>30549.0</td>\n",
              "      <td>Pandemic</td>\n",
              "    </tr>\n",
              "    <tr>\n",
              "      <th>596044</th>\n",
              "      <td>596044</td>\n",
              "      <td>thelonewolf</td>\n",
              "      <td>9.5</td>\n",
              "      <td></td>\n",
              "      <td>30549.0</td>\n",
              "      <td>Pandemic</td>\n",
              "    </tr>\n",
              "    <tr>\n",
              "      <th>596045</th>\n",
              "      <td>596045</td>\n",
              "      <td>antrim</td>\n",
              "      <td>9.5</td>\n",
              "      <td></td>\n",
              "      <td>30549.0</td>\n",
              "      <td>Pandemic</td>\n",
              "    </tr>\n",
              "    <tr>\n",
              "      <th>596046</th>\n",
              "      <td>596046</td>\n",
              "      <td>CcrunchM</td>\n",
              "      <td>9.5</td>\n",
              "      <td></td>\n",
              "      <td>30549.0</td>\n",
              "      <td>Pandemic</td>\n",
              "    </tr>\n",
              "  </tbody>\n",
              "</table>\n",
              "<p>6050 rows × 6 columns</p>\n",
              "</div>"
            ],
            "text/plain": [
              "         Index             user  ...       ID      name\n",
              "0            0          Torsten  ...  30549.0  Pandemic\n",
              "1            1  mitnachtKAUBO-I  ...  30549.0  Pandemic\n",
              "2            2           avlawn  ...  30549.0  Pandemic\n",
              "3            3       Mike Mayer  ...  30549.0  Pandemic\n",
              "4            4          Mease19  ...  30549.0  Pandemic\n",
              "...        ...              ...  ...      ...       ...\n",
              "596042  596042         jgilmour  ...  30549.0  Pandemic\n",
              "596043  596043          miah999  ...  30549.0  Pandemic\n",
              "596044  596044      thelonewolf  ...  30549.0  Pandemic\n",
              "596045  596045           antrim  ...  30549.0  Pandemic\n",
              "596046  596046         CcrunchM  ...  30549.0  Pandemic\n",
              "\n",
              "[6050 rows x 6 columns]"
            ]
          },
          "metadata": {},
          "execution_count": 28
        }
      ]
    },
    {
      "cell_type": "code",
      "metadata": {
        "id": "CSSD8tLJ32Fe"
      },
      "source": [
        "merge_rr = pd.merge(ratings_1,reviews_1, on= \"ID\")"
      ],
      "execution_count": null,
      "outputs": []
    },
    {
      "cell_type": "code",
      "metadata": {
        "colab": {
          "base_uri": "https://localhost:8080/",
          "height": 1000
        },
        "id": "5KnoId1D5g91",
        "outputId": "0f106af9-a1ee-47cb-b52d-1ff1aa66bc64"
      },
      "source": [
        "merge_rr"
      ],
      "execution_count": null,
      "outputs": [
        {
          "output_type": "execute_result",
          "data": {
            "text/html": [
              "<div>\n",
              "<style scoped>\n",
              "    .dataframe tbody tr th:only-of-type {\n",
              "        vertical-align: middle;\n",
              "    }\n",
              "\n",
              "    .dataframe tbody tr th {\n",
              "        vertical-align: top;\n",
              "    }\n",
              "\n",
              "    .dataframe thead th {\n",
              "        text-align: right;\n",
              "    }\n",
              "</style>\n",
              "<table border=\"1\" class=\"dataframe\">\n",
              "  <thead>\n",
              "    <tr style=\"text-align: right;\">\n",
              "      <th></th>\n",
              "      <th>Index_x</th>\n",
              "      <th>ID</th>\n",
              "      <th>Name</th>\n",
              "      <th>Year</th>\n",
              "      <th>Rank</th>\n",
              "      <th>Average</th>\n",
              "      <th>Bayes average</th>\n",
              "      <th>Users rated</th>\n",
              "      <th>Index_y</th>\n",
              "      <th>user</th>\n",
              "      <th>rating</th>\n",
              "      <th>comment</th>\n",
              "      <th>name</th>\n",
              "    </tr>\n",
              "  </thead>\n",
              "  <tbody>\n",
              "    <tr>\n",
              "      <th>0</th>\n",
              "      <td>90</td>\n",
              "      <td>30549</td>\n",
              "      <td>Pandemic</td>\n",
              "      <td>2008</td>\n",
              "      <td>91</td>\n",
              "      <td>7.62</td>\n",
              "      <td>7.518</td>\n",
              "      <td>96186</td>\n",
              "      <td>0</td>\n",
              "      <td>Torsten</td>\n",
              "      <td>10.0</td>\n",
              "      <td></td>\n",
              "      <td>Pandemic</td>\n",
              "    </tr>\n",
              "    <tr>\n",
              "      <th>1</th>\n",
              "      <td>90</td>\n",
              "      <td>30549</td>\n",
              "      <td>Pandemic</td>\n",
              "      <td>2008</td>\n",
              "      <td>91</td>\n",
              "      <td>7.62</td>\n",
              "      <td>7.518</td>\n",
              "      <td>96186</td>\n",
              "      <td>1</td>\n",
              "      <td>mitnachtKAUBO-I</td>\n",
              "      <td>10.0</td>\n",
              "      <td>Hands down my favorite new game of BGG CON 200...</td>\n",
              "      <td>Pandemic</td>\n",
              "    </tr>\n",
              "    <tr>\n",
              "      <th>2</th>\n",
              "      <td>90</td>\n",
              "      <td>30549</td>\n",
              "      <td>Pandemic</td>\n",
              "      <td>2008</td>\n",
              "      <td>91</td>\n",
              "      <td>7.62</td>\n",
              "      <td>7.518</td>\n",
              "      <td>96186</td>\n",
              "      <td>2</td>\n",
              "      <td>avlawn</td>\n",
              "      <td>10.0</td>\n",
              "      <td>I tend to either love or easily tire of co-op ...</td>\n",
              "      <td>Pandemic</td>\n",
              "    </tr>\n",
              "    <tr>\n",
              "      <th>3</th>\n",
              "      <td>90</td>\n",
              "      <td>30549</td>\n",
              "      <td>Pandemic</td>\n",
              "      <td>2008</td>\n",
              "      <td>91</td>\n",
              "      <td>7.62</td>\n",
              "      <td>7.518</td>\n",
              "      <td>96186</td>\n",
              "      <td>3</td>\n",
              "      <td>Mike Mayer</td>\n",
              "      <td>10.0</td>\n",
              "      <td></td>\n",
              "      <td>Pandemic</td>\n",
              "    </tr>\n",
              "    <tr>\n",
              "      <th>4</th>\n",
              "      <td>90</td>\n",
              "      <td>30549</td>\n",
              "      <td>Pandemic</td>\n",
              "      <td>2008</td>\n",
              "      <td>91</td>\n",
              "      <td>7.62</td>\n",
              "      <td>7.518</td>\n",
              "      <td>96186</td>\n",
              "      <td>4</td>\n",
              "      <td>Mease19</td>\n",
              "      <td>10.0</td>\n",
              "      <td>This is an amazing co-op game.  I play mostly ...</td>\n",
              "      <td>Pandemic</td>\n",
              "    </tr>\n",
              "    <tr>\n",
              "      <th>...</th>\n",
              "      <td>...</td>\n",
              "      <td>...</td>\n",
              "      <td>...</td>\n",
              "      <td>...</td>\n",
              "      <td>...</td>\n",
              "      <td>...</td>\n",
              "      <td>...</td>\n",
              "      <td>...</td>\n",
              "      <td>...</td>\n",
              "      <td>...</td>\n",
              "      <td>...</td>\n",
              "      <td>...</td>\n",
              "      <td>...</td>\n",
              "    </tr>\n",
              "    <tr>\n",
              "      <th>597745</th>\n",
              "      <td>103</td>\n",
              "      <td>104162</td>\n",
              "      <td>Descent: Journeys in the Dark (Second Edition)</td>\n",
              "      <td>2012</td>\n",
              "      <td>104</td>\n",
              "      <td>7.70</td>\n",
              "      <td>7.458</td>\n",
              "      <td>21850</td>\n",
              "      <td>595942</td>\n",
              "      <td>SeedtimeEOYT</td>\n",
              "      <td>8.7</td>\n",
              "      <td></td>\n",
              "      <td>Descent: Journeys in the Dark (Second Edition)</td>\n",
              "    </tr>\n",
              "    <tr>\n",
              "      <th>597746</th>\n",
              "      <td>103</td>\n",
              "      <td>104162</td>\n",
              "      <td>Descent: Journeys in the Dark (Second Edition)</td>\n",
              "      <td>2012</td>\n",
              "      <td>104</td>\n",
              "      <td>7.70</td>\n",
              "      <td>7.458</td>\n",
              "      <td>21850</td>\n",
              "      <td>595943</td>\n",
              "      <td>elhardo</td>\n",
              "      <td>8.7</td>\n",
              "      <td></td>\n",
              "      <td>Descent: Journeys in the Dark (Second Edition)</td>\n",
              "    </tr>\n",
              "    <tr>\n",
              "      <th>597747</th>\n",
              "      <td>103</td>\n",
              "      <td>104162</td>\n",
              "      <td>Descent: Journeys in the Dark (Second Edition)</td>\n",
              "      <td>2012</td>\n",
              "      <td>104</td>\n",
              "      <td>7.70</td>\n",
              "      <td>7.458</td>\n",
              "      <td>21850</td>\n",
              "      <td>595944</td>\n",
              "      <td>Quiarcus</td>\n",
              "      <td>8.7</td>\n",
              "      <td></td>\n",
              "      <td>Descent: Journeys in the Dark (Second Edition)</td>\n",
              "    </tr>\n",
              "    <tr>\n",
              "      <th>597748</th>\n",
              "      <td>103</td>\n",
              "      <td>104162</td>\n",
              "      <td>Descent: Journeys in the Dark (Second Edition)</td>\n",
              "      <td>2012</td>\n",
              "      <td>104</td>\n",
              "      <td>7.70</td>\n",
              "      <td>7.458</td>\n",
              "      <td>21850</td>\n",
              "      <td>595945</td>\n",
              "      <td>schwarzwald0224</td>\n",
              "      <td>8.7</td>\n",
              "      <td></td>\n",
              "      <td>Descent: Journeys in the Dark (Second Edition)</td>\n",
              "    </tr>\n",
              "    <tr>\n",
              "      <th>597749</th>\n",
              "      <td>103</td>\n",
              "      <td>104162</td>\n",
              "      <td>Descent: Journeys in the Dark (Second Edition)</td>\n",
              "      <td>2012</td>\n",
              "      <td>104</td>\n",
              "      <td>7.70</td>\n",
              "      <td>7.458</td>\n",
              "      <td>21850</td>\n",
              "      <td>595946</td>\n",
              "      <td>zcwar3</td>\n",
              "      <td>8.7</td>\n",
              "      <td></td>\n",
              "      <td>Descent: Journeys in the Dark (Second Edition)</td>\n",
              "    </tr>\n",
              "  </tbody>\n",
              "</table>\n",
              "<p>597750 rows × 13 columns</p>\n",
              "</div>"
            ],
            "text/plain": [
              "        Index_x  ...                                            name\n",
              "0            90  ...                                        Pandemic\n",
              "1            90  ...                                        Pandemic\n",
              "2            90  ...                                        Pandemic\n",
              "3            90  ...                                        Pandemic\n",
              "4            90  ...                                        Pandemic\n",
              "...         ...  ...                                             ...\n",
              "597745      103  ...  Descent: Journeys in the Dark (Second Edition)\n",
              "597746      103  ...  Descent: Journeys in the Dark (Second Edition)\n",
              "597747      103  ...  Descent: Journeys in the Dark (Second Edition)\n",
              "597748      103  ...  Descent: Journeys in the Dark (Second Edition)\n",
              "597749      103  ...  Descent: Journeys in the Dark (Second Edition)\n",
              "\n",
              "[597750 rows x 13 columns]"
            ]
          },
          "metadata": {},
          "execution_count": 30
        }
      ]
    },
    {
      "cell_type": "code",
      "metadata": {
        "colab": {
          "base_uri": "https://localhost:8080/"
        },
        "id": "PvHJkAKoe6lq",
        "outputId": "55017575-9932-4a21-d622-4f1f0a565749"
      },
      "source": [
        "len(merge_rr)"
      ],
      "execution_count": null,
      "outputs": [
        {
          "output_type": "execute_result",
          "data": {
            "text/plain": [
              "597750"
            ]
          },
          "metadata": {},
          "execution_count": 31
        }
      ]
    },
    {
      "cell_type": "code",
      "metadata": {
        "colab": {
          "base_uri": "https://localhost:8080/",
          "height": 964
        },
        "id": "IzDXF69U6YG7",
        "outputId": "ae32dd58-f578-4101-c7f5-0e2b09f9f8d1"
      },
      "source": [
        "merge_rr[(merge_rr.ID == 30549)]"
      ],
      "execution_count": null,
      "outputs": [
        {
          "output_type": "execute_result",
          "data": {
            "text/html": [
              "<div>\n",
              "<style scoped>\n",
              "    .dataframe tbody tr th:only-of-type {\n",
              "        vertical-align: middle;\n",
              "    }\n",
              "\n",
              "    .dataframe tbody tr th {\n",
              "        vertical-align: top;\n",
              "    }\n",
              "\n",
              "    .dataframe thead th {\n",
              "        text-align: right;\n",
              "    }\n",
              "</style>\n",
              "<table border=\"1\" class=\"dataframe\">\n",
              "  <thead>\n",
              "    <tr style=\"text-align: right;\">\n",
              "      <th></th>\n",
              "      <th>Index_x</th>\n",
              "      <th>ID</th>\n",
              "      <th>Name</th>\n",
              "      <th>Year</th>\n",
              "      <th>Rank</th>\n",
              "      <th>Average</th>\n",
              "      <th>Bayes average</th>\n",
              "      <th>Users rated</th>\n",
              "      <th>Index_y</th>\n",
              "      <th>user</th>\n",
              "      <th>rating</th>\n",
              "      <th>comment</th>\n",
              "      <th>name</th>\n",
              "    </tr>\n",
              "  </thead>\n",
              "  <tbody>\n",
              "    <tr>\n",
              "      <th>0</th>\n",
              "      <td>90</td>\n",
              "      <td>30549</td>\n",
              "      <td>Pandemic</td>\n",
              "      <td>2008</td>\n",
              "      <td>91</td>\n",
              "      <td>7.62</td>\n",
              "      <td>7.518</td>\n",
              "      <td>96186</td>\n",
              "      <td>0</td>\n",
              "      <td>Torsten</td>\n",
              "      <td>10.0</td>\n",
              "      <td></td>\n",
              "      <td>Pandemic</td>\n",
              "    </tr>\n",
              "    <tr>\n",
              "      <th>1</th>\n",
              "      <td>90</td>\n",
              "      <td>30549</td>\n",
              "      <td>Pandemic</td>\n",
              "      <td>2008</td>\n",
              "      <td>91</td>\n",
              "      <td>7.62</td>\n",
              "      <td>7.518</td>\n",
              "      <td>96186</td>\n",
              "      <td>1</td>\n",
              "      <td>mitnachtKAUBO-I</td>\n",
              "      <td>10.0</td>\n",
              "      <td>Hands down my favorite new game of BGG CON 200...</td>\n",
              "      <td>Pandemic</td>\n",
              "    </tr>\n",
              "    <tr>\n",
              "      <th>2</th>\n",
              "      <td>90</td>\n",
              "      <td>30549</td>\n",
              "      <td>Pandemic</td>\n",
              "      <td>2008</td>\n",
              "      <td>91</td>\n",
              "      <td>7.62</td>\n",
              "      <td>7.518</td>\n",
              "      <td>96186</td>\n",
              "      <td>2</td>\n",
              "      <td>avlawn</td>\n",
              "      <td>10.0</td>\n",
              "      <td>I tend to either love or easily tire of co-op ...</td>\n",
              "      <td>Pandemic</td>\n",
              "    </tr>\n",
              "    <tr>\n",
              "      <th>3</th>\n",
              "      <td>90</td>\n",
              "      <td>30549</td>\n",
              "      <td>Pandemic</td>\n",
              "      <td>2008</td>\n",
              "      <td>91</td>\n",
              "      <td>7.62</td>\n",
              "      <td>7.518</td>\n",
              "      <td>96186</td>\n",
              "      <td>3</td>\n",
              "      <td>Mike Mayer</td>\n",
              "      <td>10.0</td>\n",
              "      <td></td>\n",
              "      <td>Pandemic</td>\n",
              "    </tr>\n",
              "    <tr>\n",
              "      <th>4</th>\n",
              "      <td>90</td>\n",
              "      <td>30549</td>\n",
              "      <td>Pandemic</td>\n",
              "      <td>2008</td>\n",
              "      <td>91</td>\n",
              "      <td>7.62</td>\n",
              "      <td>7.518</td>\n",
              "      <td>96186</td>\n",
              "      <td>4</td>\n",
              "      <td>Mease19</td>\n",
              "      <td>10.0</td>\n",
              "      <td>This is an amazing co-op game.  I play mostly ...</td>\n",
              "      <td>Pandemic</td>\n",
              "    </tr>\n",
              "    <tr>\n",
              "      <th>...</th>\n",
              "      <td>...</td>\n",
              "      <td>...</td>\n",
              "      <td>...</td>\n",
              "      <td>...</td>\n",
              "      <td>...</td>\n",
              "      <td>...</td>\n",
              "      <td>...</td>\n",
              "      <td>...</td>\n",
              "      <td>...</td>\n",
              "      <td>...</td>\n",
              "      <td>...</td>\n",
              "      <td>...</td>\n",
              "      <td>...</td>\n",
              "    </tr>\n",
              "    <tr>\n",
              "      <th>6045</th>\n",
              "      <td>90</td>\n",
              "      <td>30549</td>\n",
              "      <td>Pandemic</td>\n",
              "      <td>2008</td>\n",
              "      <td>91</td>\n",
              "      <td>7.62</td>\n",
              "      <td>7.518</td>\n",
              "      <td>96186</td>\n",
              "      <td>596042</td>\n",
              "      <td>jgilmour</td>\n",
              "      <td>9.5</td>\n",
              "      <td>Holy crap! I got this as part of my Secret San...</td>\n",
              "      <td>Pandemic</td>\n",
              "    </tr>\n",
              "    <tr>\n",
              "      <th>6046</th>\n",
              "      <td>90</td>\n",
              "      <td>30549</td>\n",
              "      <td>Pandemic</td>\n",
              "      <td>2008</td>\n",
              "      <td>91</td>\n",
              "      <td>7.62</td>\n",
              "      <td>7.518</td>\n",
              "      <td>96186</td>\n",
              "      <td>596043</td>\n",
              "      <td>miah999</td>\n",
              "      <td>9.5</td>\n",
              "      <td>Save the world from the most insidious threat ...</td>\n",
              "      <td>Pandemic</td>\n",
              "    </tr>\n",
              "    <tr>\n",
              "      <th>6047</th>\n",
              "      <td>90</td>\n",
              "      <td>30549</td>\n",
              "      <td>Pandemic</td>\n",
              "      <td>2008</td>\n",
              "      <td>91</td>\n",
              "      <td>7.62</td>\n",
              "      <td>7.518</td>\n",
              "      <td>96186</td>\n",
              "      <td>596044</td>\n",
              "      <td>thelonewolf</td>\n",
              "      <td>9.5</td>\n",
              "      <td></td>\n",
              "      <td>Pandemic</td>\n",
              "    </tr>\n",
              "    <tr>\n",
              "      <th>6048</th>\n",
              "      <td>90</td>\n",
              "      <td>30549</td>\n",
              "      <td>Pandemic</td>\n",
              "      <td>2008</td>\n",
              "      <td>91</td>\n",
              "      <td>7.62</td>\n",
              "      <td>7.518</td>\n",
              "      <td>96186</td>\n",
              "      <td>596045</td>\n",
              "      <td>antrim</td>\n",
              "      <td>9.5</td>\n",
              "      <td></td>\n",
              "      <td>Pandemic</td>\n",
              "    </tr>\n",
              "    <tr>\n",
              "      <th>6049</th>\n",
              "      <td>90</td>\n",
              "      <td>30549</td>\n",
              "      <td>Pandemic</td>\n",
              "      <td>2008</td>\n",
              "      <td>91</td>\n",
              "      <td>7.62</td>\n",
              "      <td>7.518</td>\n",
              "      <td>96186</td>\n",
              "      <td>596046</td>\n",
              "      <td>CcrunchM</td>\n",
              "      <td>9.5</td>\n",
              "      <td></td>\n",
              "      <td>Pandemic</td>\n",
              "    </tr>\n",
              "  </tbody>\n",
              "</table>\n",
              "<p>6050 rows × 13 columns</p>\n",
              "</div>"
            ],
            "text/plain": [
              "      Index_x  ...      name\n",
              "0          90  ...  Pandemic\n",
              "1          90  ...  Pandemic\n",
              "2          90  ...  Pandemic\n",
              "3          90  ...  Pandemic\n",
              "4          90  ...  Pandemic\n",
              "...       ...  ...       ...\n",
              "6045       90  ...  Pandemic\n",
              "6046       90  ...  Pandemic\n",
              "6047       90  ...  Pandemic\n",
              "6048       90  ...  Pandemic\n",
              "6049       90  ...  Pandemic\n",
              "\n",
              "[6050 rows x 13 columns]"
            ]
          },
          "metadata": {},
          "execution_count": 32
        }
      ]
    },
    {
      "cell_type": "code",
      "metadata": {
        "colab": {
          "base_uri": "https://localhost:8080/",
          "height": 271
        },
        "id": "bKcuz3MzZ7pb",
        "outputId": "88673ccc-e3f9-41ca-f08b-8fa6433f0e56"
      },
      "source": [
        "merge_rr.head(2)"
      ],
      "execution_count": null,
      "outputs": [
        {
          "output_type": "execute_result",
          "data": {
            "text/html": [
              "<div>\n",
              "<style scoped>\n",
              "    .dataframe tbody tr th:only-of-type {\n",
              "        vertical-align: middle;\n",
              "    }\n",
              "\n",
              "    .dataframe tbody tr th {\n",
              "        vertical-align: top;\n",
              "    }\n",
              "\n",
              "    .dataframe thead th {\n",
              "        text-align: right;\n",
              "    }\n",
              "</style>\n",
              "<table border=\"1\" class=\"dataframe\">\n",
              "  <thead>\n",
              "    <tr style=\"text-align: right;\">\n",
              "      <th></th>\n",
              "      <th>Index_x</th>\n",
              "      <th>ID</th>\n",
              "      <th>Name</th>\n",
              "      <th>Year</th>\n",
              "      <th>Rank</th>\n",
              "      <th>Average</th>\n",
              "      <th>Bayes average</th>\n",
              "      <th>Users rated</th>\n",
              "      <th>Index_y</th>\n",
              "      <th>user</th>\n",
              "      <th>rating</th>\n",
              "      <th>comment</th>\n",
              "      <th>name</th>\n",
              "    </tr>\n",
              "  </thead>\n",
              "  <tbody>\n",
              "    <tr>\n",
              "      <th>0</th>\n",
              "      <td>90</td>\n",
              "      <td>30549</td>\n",
              "      <td>Pandemic</td>\n",
              "      <td>2008</td>\n",
              "      <td>91</td>\n",
              "      <td>7.62</td>\n",
              "      <td>7.518</td>\n",
              "      <td>96186</td>\n",
              "      <td>0</td>\n",
              "      <td>Torsten</td>\n",
              "      <td>10.0</td>\n",
              "      <td></td>\n",
              "      <td>Pandemic</td>\n",
              "    </tr>\n",
              "    <tr>\n",
              "      <th>1</th>\n",
              "      <td>90</td>\n",
              "      <td>30549</td>\n",
              "      <td>Pandemic</td>\n",
              "      <td>2008</td>\n",
              "      <td>91</td>\n",
              "      <td>7.62</td>\n",
              "      <td>7.518</td>\n",
              "      <td>96186</td>\n",
              "      <td>1</td>\n",
              "      <td>mitnachtKAUBO-I</td>\n",
              "      <td>10.0</td>\n",
              "      <td>Hands down my favorite new game of BGG CON 200...</td>\n",
              "      <td>Pandemic</td>\n",
              "    </tr>\n",
              "  </tbody>\n",
              "</table>\n",
              "</div>"
            ],
            "text/plain": [
              "   Index_x     ID  ...                                            comment      name\n",
              "0       90  30549  ...                                                     Pandemic\n",
              "1       90  30549  ...  Hands down my favorite new game of BGG CON 200...  Pandemic\n",
              "\n",
              "[2 rows x 13 columns]"
            ]
          },
          "metadata": {},
          "execution_count": 33
        }
      ]
    },
    {
      "cell_type": "code",
      "metadata": {
        "id": "4TQpCHXxiSXB"
      },
      "source": [
        "merge_rr = merge_rr.drop([\"name\",\"Index_x\", \"Index_y\"], axis = 1)"
      ],
      "execution_count": null,
      "outputs": []
    },
    {
      "cell_type": "code",
      "metadata": {
        "colab": {
          "base_uri": "https://localhost:8080/",
          "height": 164
        },
        "id": "iccbon-viaYn",
        "outputId": "36b030a7-7950-4d14-b2ea-d66bf7688147"
      },
      "source": [
        "merge_rr.head(2)"
      ],
      "execution_count": null,
      "outputs": [
        {
          "output_type": "execute_result",
          "data": {
            "text/html": [
              "<div>\n",
              "<style scoped>\n",
              "    .dataframe tbody tr th:only-of-type {\n",
              "        vertical-align: middle;\n",
              "    }\n",
              "\n",
              "    .dataframe tbody tr th {\n",
              "        vertical-align: top;\n",
              "    }\n",
              "\n",
              "    .dataframe thead th {\n",
              "        text-align: right;\n",
              "    }\n",
              "</style>\n",
              "<table border=\"1\" class=\"dataframe\">\n",
              "  <thead>\n",
              "    <tr style=\"text-align: right;\">\n",
              "      <th></th>\n",
              "      <th>ID</th>\n",
              "      <th>Name</th>\n",
              "      <th>Year</th>\n",
              "      <th>Rank</th>\n",
              "      <th>Average</th>\n",
              "      <th>Bayes average</th>\n",
              "      <th>Users rated</th>\n",
              "      <th>user</th>\n",
              "      <th>rating</th>\n",
              "      <th>comment</th>\n",
              "    </tr>\n",
              "  </thead>\n",
              "  <tbody>\n",
              "    <tr>\n",
              "      <th>0</th>\n",
              "      <td>30549</td>\n",
              "      <td>Pandemic</td>\n",
              "      <td>2008</td>\n",
              "      <td>91</td>\n",
              "      <td>7.62</td>\n",
              "      <td>7.518</td>\n",
              "      <td>96186</td>\n",
              "      <td>Torsten</td>\n",
              "      <td>10.0</td>\n",
              "      <td></td>\n",
              "    </tr>\n",
              "    <tr>\n",
              "      <th>1</th>\n",
              "      <td>30549</td>\n",
              "      <td>Pandemic</td>\n",
              "      <td>2008</td>\n",
              "      <td>91</td>\n",
              "      <td>7.62</td>\n",
              "      <td>7.518</td>\n",
              "      <td>96186</td>\n",
              "      <td>mitnachtKAUBO-I</td>\n",
              "      <td>10.0</td>\n",
              "      <td>Hands down my favorite new game of BGG CON 200...</td>\n",
              "    </tr>\n",
              "  </tbody>\n",
              "</table>\n",
              "</div>"
            ],
            "text/plain": [
              "      ID      Name  ...  rating                                            comment\n",
              "0  30549  Pandemic  ...    10.0                                                   \n",
              "1  30549  Pandemic  ...    10.0  Hands down my favorite new game of BGG CON 200...\n",
              "\n",
              "[2 rows x 10 columns]"
            ]
          },
          "metadata": {},
          "execution_count": 35
        }
      ]
    },
    {
      "cell_type": "code",
      "metadata": {
        "id": "iYXDm-c-AfRk"
      },
      "source": [
        "#Data Exploration"
      ],
      "execution_count": null,
      "outputs": []
    },
    {
      "cell_type": "code",
      "metadata": {
        "id": "PsVDaBg2Adr0"
      },
      "source": [
        "#PCA"
      ],
      "execution_count": null,
      "outputs": []
    },
    {
      "cell_type": "code",
      "metadata": {
        "id": "HMhYOQWrZJ-O"
      },
      "source": [
        "pca_df = merge_rr.drop([\"Name\",\"user\",\"comment\"], axis = 1)"
      ],
      "execution_count": null,
      "outputs": []
    },
    {
      "cell_type": "code",
      "metadata": {
        "colab": {
          "base_uri": "https://localhost:8080/",
          "height": 112
        },
        "id": "WFBl7tuVauj1",
        "outputId": "57ec607b-86ba-4d21-96d2-12db8081e411"
      },
      "source": [
        "pca_df.head(2)"
      ],
      "execution_count": null,
      "outputs": [
        {
          "output_type": "execute_result",
          "data": {
            "text/html": [
              "<div>\n",
              "<style scoped>\n",
              "    .dataframe tbody tr th:only-of-type {\n",
              "        vertical-align: middle;\n",
              "    }\n",
              "\n",
              "    .dataframe tbody tr th {\n",
              "        vertical-align: top;\n",
              "    }\n",
              "\n",
              "    .dataframe thead th {\n",
              "        text-align: right;\n",
              "    }\n",
              "</style>\n",
              "<table border=\"1\" class=\"dataframe\">\n",
              "  <thead>\n",
              "    <tr style=\"text-align: right;\">\n",
              "      <th></th>\n",
              "      <th>ID</th>\n",
              "      <th>Year</th>\n",
              "      <th>Rank</th>\n",
              "      <th>Average</th>\n",
              "      <th>Bayes average</th>\n",
              "      <th>Users rated</th>\n",
              "      <th>rating</th>\n",
              "    </tr>\n",
              "  </thead>\n",
              "  <tbody>\n",
              "    <tr>\n",
              "      <th>0</th>\n",
              "      <td>30549</td>\n",
              "      <td>2008</td>\n",
              "      <td>91</td>\n",
              "      <td>7.62</td>\n",
              "      <td>7.518</td>\n",
              "      <td>96186</td>\n",
              "      <td>10.0</td>\n",
              "    </tr>\n",
              "    <tr>\n",
              "      <th>1</th>\n",
              "      <td>30549</td>\n",
              "      <td>2008</td>\n",
              "      <td>91</td>\n",
              "      <td>7.62</td>\n",
              "      <td>7.518</td>\n",
              "      <td>96186</td>\n",
              "      <td>10.0</td>\n",
              "    </tr>\n",
              "  </tbody>\n",
              "</table>\n",
              "</div>"
            ],
            "text/plain": [
              "      ID  Year  Rank  Average  Bayes average  Users rated  rating\n",
              "0  30549  2008    91     7.62          7.518        96186    10.0\n",
              "1  30549  2008    91     7.62          7.518        96186    10.0"
            ]
          },
          "metadata": {},
          "execution_count": 39
        }
      ]
    },
    {
      "cell_type": "code",
      "metadata": {
        "colab": {
          "base_uri": "https://localhost:8080/"
        },
        "id": "TJTaG55u7i_I",
        "outputId": "e627c3e4-d8c5-47fb-ebba-5975762bea7b"
      },
      "source": [
        "pca_df.columns"
      ],
      "execution_count": null,
      "outputs": [
        {
          "output_type": "execute_result",
          "data": {
            "text/plain": [
              "Index(['ID', 'Year', 'Rank', 'Average', 'Bayes average', 'Users rated',\n",
              "       'rating'],\n",
              "      dtype='object')"
            ]
          },
          "metadata": {},
          "execution_count": 40
        }
      ]
    },
    {
      "cell_type": "code",
      "metadata": {
        "id": "bjy_w_Y8FRM8"
      },
      "source": [
        "from sklearn.preprocessing import MinMaxScaler"
      ],
      "execution_count": null,
      "outputs": []
    },
    {
      "cell_type": "code",
      "metadata": {
        "id": "mRxoEZC-FVEQ"
      },
      "source": [
        "from sklearn.preprocessing import StandardScaler"
      ],
      "execution_count": null,
      "outputs": []
    },
    {
      "cell_type": "code",
      "metadata": {
        "id": "OyMD-hRhBuf6"
      },
      "source": [
        "scaler=MinMaxScaler()\n"
      ],
      "execution_count": null,
      "outputs": []
    },
    {
      "cell_type": "code",
      "metadata": {
        "id": "zmh8ZATOG2mK"
      },
      "source": [
        "from sklearn.model_selection import train_test_split"
      ],
      "execution_count": null,
      "outputs": []
    },
    {
      "cell_type": "code",
      "metadata": {
        "colab": {
          "base_uri": "https://localhost:8080/"
        },
        "id": "YCK0wbZgLfnb",
        "outputId": "ae2c2fd8-14ad-48fb-9214-ba0a17cfaf1e"
      },
      "source": [
        "pca_df.dtypes"
      ],
      "execution_count": null,
      "outputs": [
        {
          "output_type": "execute_result",
          "data": {
            "text/plain": [
              "ID                 int64\n",
              "Year               int64\n",
              "Rank               int64\n",
              "Average          float64\n",
              "Bayes average    float64\n",
              "Users rated        int64\n",
              "rating           float64\n",
              "dtype: object"
            ]
          },
          "metadata": {},
          "execution_count": 48
        }
      ]
    },
    {
      "cell_type": "code",
      "metadata": {
        "id": "usLotVd33JN0"
      },
      "source": [
        "trainpca = pca_df.drop([\"rating\"], axis = 1)\n",
        "testpca = pca_df['rating']\n",
        "X_trainp, X_testp, y_trainp, y_testp = train_test_split(trainpca, testpca, test_size=0.3, random_state=1)"
      ],
      "execution_count": null,
      "outputs": []
    },
    {
      "cell_type": "code",
      "metadata": {
        "id": "r-vp9uPePagA"
      },
      "source": [
        "X_trainp = scaler.fit_transform(X_trainp)\n",
        "X_testp = scaler.transform(X_testp)"
      ],
      "execution_count": null,
      "outputs": []
    },
    {
      "cell_type": "code",
      "metadata": {
        "colab": {
          "base_uri": "https://localhost:8080/"
        },
        "id": "lTB8u0c8r1-U",
        "outputId": "e21e2dac-481d-4776-dd2b-9636f13500c0"
      },
      "source": [
        "pca = PCA()\n",
        "pca.fit(X_trainp)\n",
        "print(pca.explained_variance_ratio_)\n",
        "np.set_printoptions(suppress=True) "
      ],
      "execution_count": null,
      "outputs": [
        {
          "output_type": "stream",
          "name": "stdout",
          "text": [
            "[4.73701720e-01 2.91470202e-01 1.51272044e-01 4.65807254e-02\n",
            " 3.68467343e-02 1.28574471e-04]\n"
          ]
        }
      ]
    },
    {
      "cell_type": "code",
      "metadata": {
        "colab": {
          "base_uri": "https://localhost:8080/"
        },
        "id": "CKwDOWOFr9JS",
        "outputId": "715434ec-0ae0-4caa-e070-2111f3c48b6e"
      },
      "source": [
        "pca.n_components_"
      ],
      "execution_count": null,
      "outputs": [
        {
          "output_type": "execute_result",
          "data": {
            "text/plain": [
              "6"
            ]
          },
          "metadata": {},
          "execution_count": 53
        }
      ]
    },
    {
      "cell_type": "code",
      "metadata": {
        "colab": {
          "base_uri": "https://localhost:8080/"
        },
        "id": "spXYJ3S9sADt",
        "outputId": "4dd15d28-6fb4-4c37-a874-b7074971ced9"
      },
      "source": [
        "pca6 = PCA(n_components=6)\n",
        "pca6.fit(X_trainp)\n",
        "print(pca6.explained_variance_ratio_)"
      ],
      "execution_count": null,
      "outputs": [
        {
          "output_type": "stream",
          "name": "stdout",
          "text": [
            "[0.47370172 0.2914702  0.15127204 0.04658073 0.03684673 0.00012857]\n"
          ]
        }
      ]
    },
    {
      "cell_type": "code",
      "metadata": {
        "colab": {
          "base_uri": "https://localhost:8080/"
        },
        "id": "KV1HkSjEsEwK",
        "outputId": "65bf4c18-b63b-426c-e858-9cdd02901043"
      },
      "source": [
        "print(pca6.components_)"
      ],
      "execution_count": null,
      "outputs": [
        {
          "output_type": "stream",
          "name": "stdout",
          "text": [
            "[[-0.84477331 -0.09871402  0.21585988 -0.32862312 -0.32989224  0.11487414]\n",
            " [-0.17972212  0.04794391 -0.24621304  0.28115143  0.30301627  0.85668868]\n",
            " [ 0.48439776  0.03179558  0.46764722 -0.3861209  -0.38606212  0.49751443]\n",
            " [ 0.07751633 -0.9863513   0.07950903  0.08593031  0.07665279  0.03899973]\n",
            " [-0.11577117  0.11835327  0.81714641  0.38962009  0.38649804 -0.06063614]\n",
            " [-0.00225367  0.00704155 -0.00630737  0.71041082 -0.70359925  0.01304255]]\n"
          ]
        }
      ]
    },
    {
      "cell_type": "code",
      "source": [
        "pca_df.corr(method =\"pearson\")\n"
      ],
      "metadata": {
        "colab": {
          "base_uri": "https://localhost:8080/",
          "height": 269
        },
        "id": "zPHtJGf8dnNn",
        "outputId": "feee7563-f1a3-4a0c-c648-fecd59a15fb2"
      },
      "execution_count": null,
      "outputs": [
        {
          "output_type": "execute_result",
          "data": {
            "text/html": [
              "<div>\n",
              "<style scoped>\n",
              "    .dataframe tbody tr th:only-of-type {\n",
              "        vertical-align: middle;\n",
              "    }\n",
              "\n",
              "    .dataframe tbody tr th {\n",
              "        vertical-align: top;\n",
              "    }\n",
              "\n",
              "    .dataframe thead th {\n",
              "        text-align: right;\n",
              "    }\n",
              "</style>\n",
              "<table border=\"1\" class=\"dataframe\">\n",
              "  <thead>\n",
              "    <tr style=\"text-align: right;\">\n",
              "      <th></th>\n",
              "      <th>ID</th>\n",
              "      <th>Year</th>\n",
              "      <th>Rank</th>\n",
              "      <th>Average</th>\n",
              "      <th>Bayes average</th>\n",
              "      <th>Users rated</th>\n",
              "      <th>rating</th>\n",
              "    </tr>\n",
              "  </thead>\n",
              "  <tbody>\n",
              "    <tr>\n",
              "      <th>ID</th>\n",
              "      <td>1.000000</td>\n",
              "      <td>0.251322</td>\n",
              "      <td>-0.219281</td>\n",
              "      <td>0.438727</td>\n",
              "      <td>0.427321</td>\n",
              "      <td>-0.171630</td>\n",
              "      <td>0.157296</td>\n",
              "    </tr>\n",
              "    <tr>\n",
              "      <th>Year</th>\n",
              "      <td>0.251322</td>\n",
              "      <td>1.000000</td>\n",
              "      <td>-0.160339</td>\n",
              "      <td>0.209059</td>\n",
              "      <td>0.215648</td>\n",
              "      <td>0.060429</td>\n",
              "      <td>0.037550</td>\n",
              "    </tr>\n",
              "    <tr>\n",
              "      <th>Rank</th>\n",
              "      <td>-0.219281</td>\n",
              "      <td>-0.160339</td>\n",
              "      <td>1.000000</td>\n",
              "      <td>-0.689228</td>\n",
              "      <td>-0.694165</td>\n",
              "      <td>-0.102032</td>\n",
              "      <td>-0.426646</td>\n",
              "    </tr>\n",
              "    <tr>\n",
              "      <th>Average</th>\n",
              "      <td>0.438727</td>\n",
              "      <td>0.209059</td>\n",
              "      <td>-0.689228</td>\n",
              "      <td>1.000000</td>\n",
              "      <td>0.998261</td>\n",
              "      <td>0.138504</td>\n",
              "      <td>0.643263</td>\n",
              "    </tr>\n",
              "    <tr>\n",
              "      <th>Bayes average</th>\n",
              "      <td>0.427321</td>\n",
              "      <td>0.215648</td>\n",
              "      <td>-0.694165</td>\n",
              "      <td>0.998261</td>\n",
              "      <td>1.000000</td>\n",
              "      <td>0.168337</td>\n",
              "      <td>0.643936</td>\n",
              "    </tr>\n",
              "    <tr>\n",
              "      <th>Users rated</th>\n",
              "      <td>-0.171630</td>\n",
              "      <td>0.060429</td>\n",
              "      <td>-0.102032</td>\n",
              "      <td>0.138504</td>\n",
              "      <td>0.168337</td>\n",
              "      <td>1.000000</td>\n",
              "      <td>0.358126</td>\n",
              "    </tr>\n",
              "    <tr>\n",
              "      <th>rating</th>\n",
              "      <td>0.157296</td>\n",
              "      <td>0.037550</td>\n",
              "      <td>-0.426646</td>\n",
              "      <td>0.643263</td>\n",
              "      <td>0.643936</td>\n",
              "      <td>0.358126</td>\n",
              "      <td>1.000000</td>\n",
              "    </tr>\n",
              "  </tbody>\n",
              "</table>\n",
              "</div>"
            ],
            "text/plain": [
              "                     ID      Year  ...  Users rated    rating\n",
              "ID             1.000000  0.251322  ...    -0.171630  0.157296\n",
              "Year           0.251322  1.000000  ...     0.060429  0.037550\n",
              "Rank          -0.219281 -0.160339  ...    -0.102032 -0.426646\n",
              "Average        0.438727  0.209059  ...     0.138504  0.643263\n",
              "Bayes average  0.427321  0.215648  ...     0.168337  0.643936\n",
              "Users rated   -0.171630  0.060429  ...     1.000000  0.358126\n",
              "rating         0.157296  0.037550  ...     0.358126  1.000000\n",
              "\n",
              "[7 rows x 7 columns]"
            ]
          },
          "metadata": {},
          "execution_count": 86
        }
      ]
    },
    {
      "cell_type": "code",
      "metadata": {
        "id": "GZpoYbUpM_5P"
      },
      "source": [
        "from sklearn import linear_model"
      ],
      "execution_count": null,
      "outputs": []
    },
    {
      "cell_type": "code",
      "metadata": {
        "id": "yMZW0dHtDus1"
      },
      "source": [
        "from sklearn.model_selection import train_test_split"
      ],
      "execution_count": null,
      "outputs": []
    },
    {
      "cell_type": "code",
      "metadata": {
        "colab": {
          "base_uri": "https://localhost:8080/"
        },
        "id": "_pZ54QK7IUm7",
        "outputId": "718fc56e-a77a-4cf9-be56-1ade02e58a69"
      },
      "source": [
        "pca_df.columns"
      ],
      "execution_count": null,
      "outputs": [
        {
          "output_type": "execute_result",
          "data": {
            "text/plain": [
              "Index(['ID', 'Year', 'Rank', 'Average', 'Bayes average', 'Users rated',\n",
              "       'rating'],\n",
              "      dtype='object')"
            ]
          },
          "metadata": {},
          "execution_count": 59
        }
      ]
    },
    {
      "cell_type": "code",
      "metadata": {
        "id": "DsNxjIoBsMZv"
      },
      "source": [
        "train = pca_df.drop([\"rating\"], axis = 1)\n",
        "test = pca_df[\"rating\"]\n",
        "X_train, X_test, y_train, y_test = train_test_split(train, test, test_size=0.3, random_state=1)"
      ],
      "execution_count": null,
      "outputs": []
    },
    {
      "cell_type": "code",
      "metadata": {
        "id": "9nWoPGI2P86Z"
      },
      "source": [
        "X_train = scaler.fit_transform(X_train)\n",
        "X_test = scaler.transform(X_test)"
      ],
      "execution_count": null,
      "outputs": []
    },
    {
      "cell_type": "code",
      "metadata": {
        "colab": {
          "base_uri": "https://localhost:8080/",
          "height": 424
        },
        "id": "0U_qfaCGuDpW",
        "outputId": "5f9e122c-b6fc-4cfc-8a5d-b1953a66cc0c"
      },
      "source": [
        "train"
      ],
      "execution_count": null,
      "outputs": [
        {
          "output_type": "execute_result",
          "data": {
            "text/html": [
              "<div>\n",
              "<style scoped>\n",
              "    .dataframe tbody tr th:only-of-type {\n",
              "        vertical-align: middle;\n",
              "    }\n",
              "\n",
              "    .dataframe tbody tr th {\n",
              "        vertical-align: top;\n",
              "    }\n",
              "\n",
              "    .dataframe thead th {\n",
              "        text-align: right;\n",
              "    }\n",
              "</style>\n",
              "<table border=\"1\" class=\"dataframe\">\n",
              "  <thead>\n",
              "    <tr style=\"text-align: right;\">\n",
              "      <th></th>\n",
              "      <th>ID</th>\n",
              "      <th>Year</th>\n",
              "      <th>Rank</th>\n",
              "      <th>Average</th>\n",
              "      <th>Bayes average</th>\n",
              "      <th>Users rated</th>\n",
              "    </tr>\n",
              "  </thead>\n",
              "  <tbody>\n",
              "    <tr>\n",
              "      <th>0</th>\n",
              "      <td>30549</td>\n",
              "      <td>2008</td>\n",
              "      <td>91</td>\n",
              "      <td>7.62</td>\n",
              "      <td>7.518</td>\n",
              "      <td>96186</td>\n",
              "    </tr>\n",
              "    <tr>\n",
              "      <th>1</th>\n",
              "      <td>30549</td>\n",
              "      <td>2008</td>\n",
              "      <td>91</td>\n",
              "      <td>7.62</td>\n",
              "      <td>7.518</td>\n",
              "      <td>96186</td>\n",
              "    </tr>\n",
              "    <tr>\n",
              "      <th>2</th>\n",
              "      <td>30549</td>\n",
              "      <td>2008</td>\n",
              "      <td>91</td>\n",
              "      <td>7.62</td>\n",
              "      <td>7.518</td>\n",
              "      <td>96186</td>\n",
              "    </tr>\n",
              "    <tr>\n",
              "      <th>3</th>\n",
              "      <td>30549</td>\n",
              "      <td>2008</td>\n",
              "      <td>91</td>\n",
              "      <td>7.62</td>\n",
              "      <td>7.518</td>\n",
              "      <td>96186</td>\n",
              "    </tr>\n",
              "    <tr>\n",
              "      <th>4</th>\n",
              "      <td>30549</td>\n",
              "      <td>2008</td>\n",
              "      <td>91</td>\n",
              "      <td>7.62</td>\n",
              "      <td>7.518</td>\n",
              "      <td>96186</td>\n",
              "    </tr>\n",
              "    <tr>\n",
              "      <th>...</th>\n",
              "      <td>...</td>\n",
              "      <td>...</td>\n",
              "      <td>...</td>\n",
              "      <td>...</td>\n",
              "      <td>...</td>\n",
              "      <td>...</td>\n",
              "    </tr>\n",
              "    <tr>\n",
              "      <th>597745</th>\n",
              "      <td>104162</td>\n",
              "      <td>2012</td>\n",
              "      <td>104</td>\n",
              "      <td>7.70</td>\n",
              "      <td>7.458</td>\n",
              "      <td>21850</td>\n",
              "    </tr>\n",
              "    <tr>\n",
              "      <th>597746</th>\n",
              "      <td>104162</td>\n",
              "      <td>2012</td>\n",
              "      <td>104</td>\n",
              "      <td>7.70</td>\n",
              "      <td>7.458</td>\n",
              "      <td>21850</td>\n",
              "    </tr>\n",
              "    <tr>\n",
              "      <th>597747</th>\n",
              "      <td>104162</td>\n",
              "      <td>2012</td>\n",
              "      <td>104</td>\n",
              "      <td>7.70</td>\n",
              "      <td>7.458</td>\n",
              "      <td>21850</td>\n",
              "    </tr>\n",
              "    <tr>\n",
              "      <th>597748</th>\n",
              "      <td>104162</td>\n",
              "      <td>2012</td>\n",
              "      <td>104</td>\n",
              "      <td>7.70</td>\n",
              "      <td>7.458</td>\n",
              "      <td>21850</td>\n",
              "    </tr>\n",
              "    <tr>\n",
              "      <th>597749</th>\n",
              "      <td>104162</td>\n",
              "      <td>2012</td>\n",
              "      <td>104</td>\n",
              "      <td>7.70</td>\n",
              "      <td>7.458</td>\n",
              "      <td>21850</td>\n",
              "    </tr>\n",
              "  </tbody>\n",
              "</table>\n",
              "<p>597750 rows × 6 columns</p>\n",
              "</div>"
            ],
            "text/plain": [
              "            ID  Year  Rank  Average  Bayes average  Users rated\n",
              "0        30549  2008    91     7.62          7.518        96186\n",
              "1        30549  2008    91     7.62          7.518        96186\n",
              "2        30549  2008    91     7.62          7.518        96186\n",
              "3        30549  2008    91     7.62          7.518        96186\n",
              "4        30549  2008    91     7.62          7.518        96186\n",
              "...        ...   ...   ...      ...            ...          ...\n",
              "597745  104162  2012   104     7.70          7.458        21850\n",
              "597746  104162  2012   104     7.70          7.458        21850\n",
              "597747  104162  2012   104     7.70          7.458        21850\n",
              "597748  104162  2012   104     7.70          7.458        21850\n",
              "597749  104162  2012   104     7.70          7.458        21850\n",
              "\n",
              "[597750 rows x 6 columns]"
            ]
          },
          "metadata": {},
          "execution_count": 62
        }
      ]
    },
    {
      "cell_type": "code",
      "metadata": {
        "colab": {
          "base_uri": "https://localhost:8080/"
        },
        "id": "oEO_D-8xTscn",
        "outputId": "c89fd23f-b2bf-4520-f115-aca3f1a94f1d"
      },
      "source": [
        "reg = linear_model.LinearRegression()\n",
        "reg.fit(X_train,y_train)"
      ],
      "execution_count": null,
      "outputs": [
        {
          "output_type": "execute_result",
          "data": {
            "text/plain": [
              "LinearRegression()"
            ]
          },
          "metadata": {},
          "execution_count": 63
        }
      ]
    },
    {
      "cell_type": "code",
      "metadata": {
        "colab": {
          "base_uri": "https://localhost:8080/"
        },
        "id": "0mXvwmB4Uar_",
        "outputId": "285e33ea-c1b7-4031-901b-c5fa5794eca5"
      },
      "source": [
        "reg.coef_"
      ],
      "execution_count": null,
      "outputs": [
        {
          "output_type": "execute_result",
          "data": {
            "text/plain": [
              "array([ -0.21837411,  -0.64120193,   0.10089841,  16.72695044,\n",
              "       -12.88149696,   1.14938401])"
            ]
          },
          "metadata": {},
          "execution_count": 64
        }
      ]
    },
    {
      "cell_type": "code",
      "metadata": {
        "colab": {
          "base_uri": "https://localhost:8080/"
        },
        "id": "JMND1b9YUfkP",
        "outputId": "f1f31619-4286-4e67-be85-788157a7fcfc"
      },
      "source": [
        "reg.intercept_"
      ],
      "execution_count": null,
      "outputs": [
        {
          "output_type": "execute_result",
          "data": {
            "text/plain": [
              "7.179982984976122"
            ]
          },
          "metadata": {},
          "execution_count": 65
        }
      ]
    },
    {
      "cell_type": "code",
      "metadata": {
        "id": "MmBp1o52Ujhx"
      },
      "source": [
        "y_pred = reg.predict(X_test)"
      ],
      "execution_count": null,
      "outputs": []
    },
    {
      "cell_type": "code",
      "metadata": {
        "id": "9AlEJewmVVB-"
      },
      "source": [
        "import sklearn.metrics as metrics\n"
      ],
      "execution_count": null,
      "outputs": []
    },
    {
      "cell_type": "code",
      "metadata": {
        "colab": {
          "base_uri": "https://localhost:8080/"
        },
        "id": "wg52XZSSD6fR",
        "outputId": "7912f46e-de13-421f-d3dc-3eda55cff92b"
      },
      "source": [
        "print(np.sqrt(metrics.mean_squared_error(y_test,y_pred)))"
      ],
      "execution_count": null,
      "outputs": [
        {
          "output_type": "stream",
          "name": "stdout",
          "text": [
            "0.5386491438384559\n"
          ]
        }
      ]
    },
    {
      "cell_type": "code",
      "metadata": {
        "colab": {
          "base_uri": "https://localhost:8080/"
        },
        "id": "9BlnTKJcWwHY",
        "outputId": "88565246-15b3-4c0c-86b7-020636c1d382"
      },
      "source": [
        "print(metrics.mean_squared_error(y_test,y_pred))"
      ],
      "execution_count": null,
      "outputs": [
        {
          "output_type": "stream",
          "name": "stdout",
          "text": [
            "0.29014290015790156\n"
          ]
        }
      ]
    },
    {
      "cell_type": "code",
      "metadata": {
        "id": "P8JuzixKXhoL"
      },
      "source": [
        "import math \n"
      ],
      "execution_count": null,
      "outputs": []
    },
    {
      "cell_type": "code",
      "metadata": {
        "colab": {
          "base_uri": "https://localhost:8080/"
        },
        "id": "ol9jUro_EB-K",
        "outputId": "69ea71e7-d5ee-40d6-b2d5-1cb9b236a94c"
      },
      "source": [
        "math.sqrt(0.29014290015790156)"
      ],
      "execution_count": null,
      "outputs": [
        {
          "output_type": "execute_result",
          "data": {
            "text/plain": [
              "0.5386491438384559"
            ]
          },
          "metadata": {},
          "execution_count": 87
        }
      ]
    },
    {
      "cell_type": "code",
      "metadata": {
        "id": "TWdj18qkE9ZI"
      },
      "source": [
        "from sklearn.metrics import mean_squared_error\n",
        "from math import sqrt\n",
        "\n",
        "rmse = sqrt(mean_squared_error(y_test, y_pred))"
      ],
      "execution_count": null,
      "outputs": []
    },
    {
      "cell_type": "code",
      "metadata": {
        "colab": {
          "base_uri": "https://localhost:8080/"
        },
        "id": "9rpoInGqGCqI",
        "outputId": "a91f7c1f-e4fd-46e5-c26c-750d9166579b"
      },
      "source": [
        "print(rmse)"
      ],
      "execution_count": null,
      "outputs": [
        {
          "output_type": "stream",
          "name": "stdout",
          "text": [
            "0.5386491438384559\n"
          ]
        }
      ]
    }
  ]
}